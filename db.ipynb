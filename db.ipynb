{
 "cells": [
  {
   "cell_type": "markdown",
   "metadata": {},
   "source": [
    "<h1 style = \"text-align: center;\">Project - Handling Missing Data </h1>"
   ]
  },
  {
   "cell_type": "markdown",
   "metadata": {},
   "source": [
    "### Created by Brian Butzen and Nicholas Thomson"
   ]
  },
  {
   "cell_type": "markdown",
   "metadata": {},
   "source": [
    "Install the required libraries if they are not already installed"
   ]
  },
  {
   "cell_type": "code",
   "execution_count": 1,
   "metadata": {},
   "outputs": [
    {
     "name": "stdout",
     "output_type": "stream",
     "text": [
      "Requirement already satisfied: pandas in c:\\users\\nick8\\appdata\\local\\packages\\pythonsoftwarefoundation.python.3.10_qbz5n2kfra8p0\\localcache\\local-packages\\python310\\site-packages (2.1.4)\n",
      "Requirement already satisfied: numpy<2,>=1.22.4 in c:\\users\\nick8\\appdata\\local\\packages\\pythonsoftwarefoundation.python.3.10_qbz5n2kfra8p0\\localcache\\local-packages\\python310\\site-packages (from pandas) (1.26.3)\n",
      "Requirement already satisfied: python-dateutil>=2.8.2 in c:\\users\\nick8\\appdata\\local\\packages\\pythonsoftwarefoundation.python.3.10_qbz5n2kfra8p0\\localcache\\local-packages\\python310\\site-packages (from pandas) (2.8.2)\n",
      "Requirement already satisfied: pytz>=2020.1 in c:\\users\\nick8\\appdata\\local\\packages\\pythonsoftwarefoundation.python.3.10_qbz5n2kfra8p0\\localcache\\local-packages\\python310\\site-packages (from pandas) (2023.3.post1)\n",
      "Requirement already satisfied: tzdata>=2022.1 in c:\\users\\nick8\\appdata\\local\\packages\\pythonsoftwarefoundation.python.3.10_qbz5n2kfra8p0\\localcache\\local-packages\\python310\\site-packages (from pandas) (2023.4)\n",
      "Requirement already satisfied: six>=1.5 in c:\\users\\nick8\\appdata\\local\\packages\\pythonsoftwarefoundation.python.3.10_qbz5n2kfra8p0\\localcache\\local-packages\\python310\\site-packages (from python-dateutil>=2.8.2->pandas) (1.16.0)\n"
     ]
    }
   ],
   "source": [
    "!pip install pandas"
   ]
  },
  {
   "cell_type": "code",
   "execution_count": 2,
   "metadata": {},
   "outputs": [
    {
     "name": "stdout",
     "output_type": "stream",
     "text": [
      "Requirement already satisfied: scikit-learn in c:\\users\\nick8\\appdata\\local\\packages\\pythonsoftwarefoundation.python.3.10_qbz5n2kfra8p0\\localcache\\local-packages\\python310\\site-packages (1.3.2)\n",
      "Requirement already satisfied: numpy<2.0,>=1.17.3 in c:\\users\\nick8\\appdata\\local\\packages\\pythonsoftwarefoundation.python.3.10_qbz5n2kfra8p0\\localcache\\local-packages\\python310\\site-packages (from scikit-learn) (1.26.3)\n",
      "Requirement already satisfied: scipy>=1.5.0 in c:\\users\\nick8\\appdata\\local\\packages\\pythonsoftwarefoundation.python.3.10_qbz5n2kfra8p0\\localcache\\local-packages\\python310\\site-packages (from scikit-learn) (1.11.4)\n",
      "Requirement already satisfied: joblib>=1.1.1 in c:\\users\\nick8\\appdata\\local\\packages\\pythonsoftwarefoundation.python.3.10_qbz5n2kfra8p0\\localcache\\local-packages\\python310\\site-packages (from scikit-learn) (1.3.2)\n",
      "Requirement already satisfied: threadpoolctl>=2.0.0 in c:\\users\\nick8\\appdata\\local\\packages\\pythonsoftwarefoundation.python.3.10_qbz5n2kfra8p0\\localcache\\local-packages\\python310\\site-packages (from scikit-learn) (3.2.0)\n"
     ]
    }
   ],
   "source": [
    "!pip install scikit-learn"
   ]
  },
  {
   "cell_type": "markdown",
   "metadata": {},
   "source": [
    "Import the required Python libraries."
   ]
  },
  {
   "cell_type": "code",
   "execution_count": 3,
   "metadata": {},
   "outputs": [],
   "source": [
    "from tkinter import *\n",
    "import math\n",
    "import pandas as pd\n",
    "from sklearn.linear_model import LinearRegression"
   ]
  },
  {
   "cell_type": "markdown",
   "metadata": {},
   "source": [
    "## Substitution Methods"
   ]
  },
  {
   "cell_type": "code",
   "execution_count": 4,
   "metadata": {},
   "outputs": [],
   "source": [
    "#Substitution with mode for categorical\n",
    "def ReplaceCategoricalMode(DataFrame: pd.DataFrame) -> pd.DataFrame:\n",
    "    for x in DataFrame: #Goes through each column in dataframe\n",
    "        if(DataFrame[x].dtype == object): #Check to see if the datatype of the column is object\n",
    "            mode = DataFrame[x].mode() #Find the mode of the column\n",
    "            DataFrame[x] = DataFrame[x].fillna(mode[0]) #Set the NaN values in the column to the mode\n",
    "    return DataFrame\n",
    "\n",
    "#Substitution with mean for numerical\n",
    "def ReplaceNumericalMean(DataFrame: pd.DataFrame) -> pd.DataFrame:\n",
    "    for x in DataFrame: #Goes through each column in dataframe\n",
    "        if(DataFrame[x].dtype == 'float64' or DataFrame[x].dtype == 'int64'): #Check to see if the datatype of the column is a number\n",
    "            mean = DataFrame[x].mean() #Find the mean of the column\n",
    "            DataFrame[x] = DataFrame[x].fillna(mean) #Set the NaN values in the column to the mean\n",
    "    return DataFrame\n",
    "\n",
    "#Substitution with median for numerical\n",
    "def ReplaceNumericalMedian(DataFrame: pd.DataFrame) -> pd.DataFrame:\n",
    "    for x in DataFrame: #Goes through each column in dataframe\n",
    "        if(DataFrame[x].dtype == 'float64' or DataFrame[x].dtype == 'int64'): #Check to see if the datatype of the column is a number\n",
    "            median = DataFrame[x].median() #Find the median of the column\n",
    "            DataFrame[x] = DataFrame[x].fillna(median) #Set the NaN values in the column to the median\n",
    "    return DataFrame\n",
    "\n",
    "#Makes a CSV\n",
    "def MakeCSV(DataFrame: pd.DataFrame, s):\n",
    "    DataFrame.to_csv(s +'Out.csv', index=False)\n",
    "\n",
    "#Substitution using predictive modeling\n",
    "#Returns dataframe with predicted values of missing numerical columns\n",
    "#Uses linear regression model to predict values\n",
    "def PredictiveModeling(df: pd.DataFrame) -> pd.DataFrame:\n",
    "    old_data = df #Keep old dataframe for modification\n",
    "    df = pd.get_dummies(df) #Convert categorical to dummy variables\n",
    "    for x in df:\n",
    "        if df[x].dtype == 'float64' or df[x].dtype == 'int64': #Makes sure column is numerical\n",
    "            if df[x].isnull().sum() == 0: #Checks if there is any NaN/missing values\n",
    "                continue\n",
    "            #x is the name of the column\n",
    "            test_data = df[df[x].isnull()] #Testing data is every row that has nan value in the column\n",
    "            dropped_na = df.dropna() #drop the nan values for linear regression model\n",
    "\n",
    "            #Get columns to test\n",
    "            x_train = dropped_na.drop(x, axis=1)\n",
    "            y_train = dropped_na[x]\n",
    "\n",
    "            #Fit linear regression model\n",
    "            lr = LinearRegression()\n",
    "            lr.fit(x_train, y_train)\n",
    "\n",
    "            #Predict missing values using model\n",
    "            x_test = test_data.drop(x, axis=1)\n",
    "            y_pred = lr.predict(x_test)\n",
    "\n",
    "            #Replace old data with new data\n",
    "            newSeries = [] \n",
    "            count = 0\n",
    "            #Index through old data, replace nan values with predicted values and keeping the old ones\n",
    "            for y in old_data.index:\n",
    "                if math.isnan(old_data.iloc[y][x]):\n",
    "                    newSeries.append(y_pred[count])\n",
    "                    count += 1\n",
    "                else:\n",
    "                    newSeries.append(old_data.iloc[y][x])\n",
    "            old_data[x] = newSeries\n",
    "\n",
    "    return old_data\n",
    "\n",
    "\n"
   ]
  },
  {
   "cell_type": "markdown",
   "metadata": {},
   "source": [
    "## Missing Values Display"
   ]
  },
  {
   "cell_type": "code",
   "execution_count": 5,
   "metadata": {},
   "outputs": [],
   "source": [
    "def missing(dataframe):\n",
    "    #Open the file for writing, and create the file if it is not present.\n",
    "    #All data will be overidden each time\n",
    "    missing_file = open('Missing.txt', 'w')\n",
    "    missing_file.write(\"The number of missing values in each column\\n\")\n",
    "    #Write the missing values in each column using the isnull pandas method. Axis = 0 reports the columns\n",
    "    missing_file.write(dataframe.isnull().sum(axis = 0).to_string())\n",
    "    missing_file.write(\"\\n\\nThe data types of the columns are:\\n\")\n",
    "    #Write the data types of each column using dtypes in pandas \n",
    "    missing_file.write(dataframe.dtypes.to_string())\n",
    "    missing_file.write(\"\\n\\nThe number of missing values in each row is\\n\")\n",
    "    #Write the missing values in each row using the isnull pandas method. Axis = 1 reports the rows\n",
    "    missing_file.write(dataframe.isnull().sum(axis = 1).to_string())\n",
    "    #Displaying the total number of missing values using isnull. The two sums totals the columns and the rows\n",
    "    missing_file.write(\"\\n\\nThe total number of missing values is \" + str(dataframe.isnull().sum().sum()))\n",
    "    #Displaying the statistical values without the NA values present\n",
    "    missing_file.write(\"\\n\\nStatistical values of the present data\")\n",
    "    missing_file.write(\"\\nAge -            Mean: \" + str(dataframe['Age'].dropna().mean()))\n",
    "    missing_file.write(\"\\n                 Median: \" + str(dataframe['Age'].dropna().median()))\n",
    "    missing_file.write(\"\\nProduct Rating - Mean: \" + str(dataframe['ProductRating'].dropna().mean()))\n",
    "    missing_file.write(\"\\n                 Median: \" + str(dataframe['ProductRating'].dropna().median()))\n",
    "    missing_file.write(\"\\nGender -         Mode: \" + str(dataframe['Gender'].dropna().mode()[0]))\n",
    "    missing_file.write(\"\\nEducation -      Mode: \" + str(dataframe['Education'].dropna().mode()[0]))\n",
    "    missing_file.write(\"\\nOccupation -     Mode: \" + str(dataframe['Occupation'].dropna().mode()[0]))\n",
    "    missing_file.write(\"\\nMarital Status - Mode: \" + str(dataframe['MaritalStatus'].dropna().mode()[0]))\n",
    "    missing_file.close()"
   ]
  },
  {
   "cell_type": "markdown",
   "metadata": {},
   "source": [
    "## Create Reports"
   ]
  },
  {
   "cell_type": "code",
   "execution_count": 6,
   "metadata": {},
   "outputs": [],
   "source": [
    "#callback function to call the create_report function when the button is presses\n",
    "def run():\n",
    "    create_report(master, v.get())\n",
    "\n",
    "#calls the appropriate function depending on which radio button is pressed.\n",
    "#The label is updated in the GUI displaying which CSV was created.\n",
    "#\n",
    "def create_report(master, v):\n",
    "    dataframe = pd.read_csv(\"input.data\")\n",
    "    match v:\n",
    "        case 1:\n",
    "            missing(dataframe)\n",
    "            label.config(text = \"The report Missing.txt has been created.\")\n",
    "        case 2:\n",
    "            print(\"Original data:\")\n",
    "            print(dataframe.to_string())\n",
    "            df = ReplaceNumericalMean(dataframe)\n",
    "            label.config(text = \"The CSV MeanOut has been created.\")\n",
    "            print(\"Missing data replaced with Mean\")\n",
    "            print(df.to_string())\n",
    "            MakeCSV(df, \"Mean\")\n",
    "        case 3: \n",
    "            print(\"Original Data\")\n",
    "            print(dataframe.to_string())\n",
    "            df = ReplaceNumericalMedian(dataframe)\n",
    "            label.config(text = \"The CSV MedianOut has been created.\")\n",
    "            print(\"Missing data replaced with Median:\")\n",
    "            print(df.to_string())\n",
    "            MakeCSV(df, \"Median\")\n",
    "        case 4:\n",
    "            print(\"Original Data\")\n",
    "            print(dataframe.to_string())\n",
    "            df = ReplaceCategoricalMode(dataframe)\n",
    "            label.config(text = \"The CSV ModeOut has been created.\")\n",
    "            print(\"Missing data replaced with Mode:\")\n",
    "            print(df.to_string())\n",
    "            MakeCSV(df, \"Mode\")\n",
    "        case 5:\n",
    "            print(\"Original Data\")\n",
    "            print(dataframe.to_string())\n",
    "            df = PredictiveModeling(dataframe)\n",
    "            label.config(text = \"The CSV RegressionOut has been created.\")\n",
    "            print(\"Missing data replaced with Regression\")\n",
    "            print(df.to_string())\n",
    "            MakeCSV(df, \"Regression\")"
   ]
  },
  {
   "cell_type": "markdown",
   "metadata": {},
   "source": [
    "## GUI Implementation"
   ]
  },
  {
   "cell_type": "code",
   "execution_count": 7,
   "metadata": {},
   "outputs": [
    {
     "name": "stdout",
     "output_type": "stream",
     "text": [
      "Original Data\n",
      "    CustomerID  Gender   Age    Education          Occupation MaritalStatus  ProductRating\n",
      "0         1001    Male  35.0   Bachelor's   Digital Marketing       Married            4.5\n",
      "1         1002  Female  28.0   Bachelor's   Software Engineer        Single            3.8\n",
      "2         1003    Male  45.0     Master's             Finance       Married            4.2\n",
      "3         1004  Female  32.0  High School               Sales        Single            NaN\n",
      "4         1005  Female   NaN     Master's             Teacher       Married            4.0\n",
      "5         1006    Male  40.0    Doctorate          Operations       Married            4.7\n",
      "6         1007    Male  38.0   Bachelor's           Marketing        Single            4.3\n",
      "7         1008  Female  35.0     Master's                 NaN        Single            4.1\n",
      "8         1009    Male  33.0  High School        Construction        Single            NaN\n",
      "9         1010  Female   NaN   Bachelor's        Data Analyst       Married            3.9\n",
      "10        1011    Male  29.0   Bachelor's  Software Developer        Single            4.6\n",
      "11        1012  Female  41.0     Master's                  HR       Married            NaN\n",
      "12        1013    Male  45.0     Master's             Finance        Single            NaN\n",
      "13        1014  Female  36.0   Bachelor's          Operations       Married            4.8\n",
      "14        1015    Male   NaN  High School           Marketing        Single            4.2\n",
      "15        1016  Female  27.0     Master's            Engineer       Married            NaN\n",
      "16        1017    Male  39.0          NaN          Operations        Single            4.4\n",
      "17        1018  Female  34.0   Bachelor's           Marketing       Married            4.9\n",
      "18        1019    Male  31.0   Bachelor's               Sales        Single            NaN\n",
      "19        1020  Female  29.0     Master's                  HR       Married            3.7\n",
      "20        1021    Male  35.0   Bachelor's   Digital Marketing       Married            4.5\n",
      "21        1022  Female  28.0   Bachelor's   Software Engineer        Single            3.8\n",
      "22        1023    Male  45.0     Master's             Finance       Married            4.2\n",
      "23        1024  Female  32.0  High School               Sales        Single            NaN\n",
      "24        1025  Female   NaN     Master's             Teacher       Married            4.0\n",
      "25        1026    Male  40.0    Doctorate          Operations       Married            4.7\n",
      "26        1027    Male  38.0   Bachelor's           Marketing        Single            4.3\n",
      "27        1028  Female  35.0     Master's                 NaN        Single            4.1\n",
      "28        1029    Male  33.0  High School        Construction        Single            NaN\n",
      "29        1030  Female   NaN   Bachelor's        Data Analyst       Married            3.9\n",
      "30        1031    Male  29.0   Bachelor's  Software Developer        Single            4.6\n",
      "31        1032  Female  41.0     Master's                  HR       Married            NaN\n",
      "32        1033    Male  45.0     Master's             Finance        Single            NaN\n",
      "33        1034  Female  36.0   Bachelor's          Operations       Married            4.8\n",
      "34        1035    Male   NaN  High School           Marketing        Single            4.2\n",
      "35        1036  Female  27.0     Master's            Engineer       Married            NaN\n",
      "36        1037    Male  39.0          NaN          Operations        Single            4.4\n",
      "37        1038  Female  34.0   Bachelor's           Marketing       Married            4.9\n",
      "38        1039    Male  31.0   Bachelor's               Sales        Single            NaN\n",
      "39        1040  Female  29.0     Master's                  HR       Married            3.7\n",
      "40        1041    Male  35.0   Bachelor's   Digital Marketing       Married            4.5\n",
      "41        1042  Female  28.0   Bachelor's   Software Engineer        Single            3.8\n",
      "42        1043    Male  45.0     Master's             Finance       Married            4.2\n",
      "43        1044  Female  32.0  High School               Sales        Single            NaN\n",
      "44        1045  Female   NaN     Master's             Teacher       Married            4.0\n",
      "45        1046    Male  40.0    Doctorate          Operations       Married            4.7\n",
      "46        1047    Male  38.0   Bachelor's           Marketing        Single            4.3\n",
      "47        1048  Female  35.0     Master's                 NaN        Single            4.1\n",
      "48        1049    Male  33.0  High School        Construction        Single            NaN\n",
      "49        1050  Female   NaN   Bachelor's        Data Analyst       Married            3.9\n",
      "Missing data replaced with Mode:\n",
      "    CustomerID  Gender   Age    Education          Occupation MaritalStatus  ProductRating\n",
      "0         1001    Male  35.0   Bachelor's   Digital Marketing       Married            4.5\n",
      "1         1002  Female  28.0   Bachelor's   Software Engineer        Single            3.8\n",
      "2         1003    Male  45.0     Master's             Finance       Married            4.2\n",
      "3         1004  Female  32.0  High School               Sales        Single            NaN\n",
      "4         1005  Female   NaN     Master's             Teacher       Married            4.0\n",
      "5         1006    Male  40.0    Doctorate          Operations       Married            4.7\n",
      "6         1007    Male  38.0   Bachelor's           Marketing        Single            4.3\n",
      "7         1008  Female  35.0     Master's           Marketing        Single            4.1\n",
      "8         1009    Male  33.0  High School        Construction        Single            NaN\n",
      "9         1010  Female   NaN   Bachelor's        Data Analyst       Married            3.9\n",
      "10        1011    Male  29.0   Bachelor's  Software Developer        Single            4.6\n",
      "11        1012  Female  41.0     Master's                  HR       Married            NaN\n",
      "12        1013    Male  45.0     Master's             Finance        Single            NaN\n",
      "13        1014  Female  36.0   Bachelor's          Operations       Married            4.8\n",
      "14        1015    Male   NaN  High School           Marketing        Single            4.2\n",
      "15        1016  Female  27.0     Master's            Engineer       Married            NaN\n",
      "16        1017    Male  39.0   Bachelor's          Operations        Single            4.4\n",
      "17        1018  Female  34.0   Bachelor's           Marketing       Married            4.9\n",
      "18        1019    Male  31.0   Bachelor's               Sales        Single            NaN\n",
      "19        1020  Female  29.0     Master's                  HR       Married            3.7\n",
      "20        1021    Male  35.0   Bachelor's   Digital Marketing       Married            4.5\n",
      "21        1022  Female  28.0   Bachelor's   Software Engineer        Single            3.8\n",
      "22        1023    Male  45.0     Master's             Finance       Married            4.2\n",
      "23        1024  Female  32.0  High School               Sales        Single            NaN\n",
      "24        1025  Female   NaN     Master's             Teacher       Married            4.0\n",
      "25        1026    Male  40.0    Doctorate          Operations       Married            4.7\n",
      "26        1027    Male  38.0   Bachelor's           Marketing        Single            4.3\n",
      "27        1028  Female  35.0     Master's           Marketing        Single            4.1\n",
      "28        1029    Male  33.0  High School        Construction        Single            NaN\n",
      "29        1030  Female   NaN   Bachelor's        Data Analyst       Married            3.9\n",
      "30        1031    Male  29.0   Bachelor's  Software Developer        Single            4.6\n",
      "31        1032  Female  41.0     Master's                  HR       Married            NaN\n",
      "32        1033    Male  45.0     Master's             Finance        Single            NaN\n",
      "33        1034  Female  36.0   Bachelor's          Operations       Married            4.8\n",
      "34        1035    Male   NaN  High School           Marketing        Single            4.2\n",
      "35        1036  Female  27.0     Master's            Engineer       Married            NaN\n",
      "36        1037    Male  39.0   Bachelor's          Operations        Single            4.4\n",
      "37        1038  Female  34.0   Bachelor's           Marketing       Married            4.9\n",
      "38        1039    Male  31.0   Bachelor's               Sales        Single            NaN\n",
      "39        1040  Female  29.0     Master's                  HR       Married            3.7\n",
      "40        1041    Male  35.0   Bachelor's   Digital Marketing       Married            4.5\n",
      "41        1042  Female  28.0   Bachelor's   Software Engineer        Single            3.8\n",
      "42        1043    Male  45.0     Master's             Finance       Married            4.2\n",
      "43        1044  Female  32.0  High School               Sales        Single            NaN\n",
      "44        1045  Female   NaN     Master's             Teacher       Married            4.0\n",
      "45        1046    Male  40.0    Doctorate          Operations       Married            4.7\n",
      "46        1047    Male  38.0   Bachelor's           Marketing        Single            4.3\n",
      "47        1048  Female  35.0     Master's           Marketing        Single            4.1\n",
      "48        1049    Male  33.0  High School        Construction        Single            NaN\n",
      "49        1050  Female   NaN   Bachelor's        Data Analyst       Married            3.9\n"
     ]
    }
   ],
   "source": [
    "master = Tk()\n",
    "master.title(\"Data Management Tool\")\n",
    "master.minsize(400, 300)\n",
    "middle_frame = Frame(master)\n",
    "bottom_frame = Frame(master)\n",
    "v = IntVar(master, 1)\n",
    "values = {\"Missing Values\" : 1,\n",
    "          \"Substitute With Mean\": 2,\n",
    "          \"Substitute With Median\": 3,\n",
    "          \"Substitute With Mode\": 4,\n",
    "          \"Substitute With Regression\": 5}\n",
    "\n",
    "#For each loop to create the formatted radio buttons\n",
    "for (text, value) in values.items():\n",
    "    Radiobutton(master, text=text, variable=v, value=value, indicator = 0, background = \"light blue\").pack(fill = X, ipady = 5)\n",
    "\n",
    "#Buttons for creation of the report and for closing the window\n",
    "s_button = Button(bottom_frame, text=\"Generate Report\", command = run)\n",
    "cancel_button = Button(bottom_frame, text=\"Cancel\", command=master.destroy)\n",
    "\n",
    "#Label to display that the report was created\n",
    "label = Label(master, text='', justify=\"center\")\n",
    "#pack all of the elements into the window\n",
    "label.pack(side = TOP, expand=True)\n",
    "middle_frame.pack(side= BOTTOM)\n",
    "s_button.pack(side = LEFT)\n",
    "cancel_button.pack(side = LEFT)\n",
    "bottom_frame.pack(side = BOTTOM)\n",
    "\n",
    "mainloop()\n"
   ]
  },
  {
   "cell_type": "code",
   "execution_count": null,
   "metadata": {},
   "outputs": [],
   "source": []
  }
 ],
 "metadata": {
  "kernelspec": {
   "display_name": "Python 3",
   "language": "python",
   "name": "python3"
  },
  "language_info": {
   "codemirror_mode": {
    "name": "ipython",
    "version": 3
   },
   "file_extension": ".py",
   "mimetype": "text/x-python",
   "name": "python",
   "nbconvert_exporter": "python",
   "pygments_lexer": "ipython3",
   "version": "3.10.11"
  }
 },
 "nbformat": 4,
 "nbformat_minor": 2
}
